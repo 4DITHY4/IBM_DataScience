{
 "cells": [
  {
   "cell_type": "markdown",
   "id": "24963d52-b3d0-4d5f-863d-e85f4768d8ad",
   "metadata": {},
   "source": [
    "## Data Science Tools and Ecosystem\n"
   ]
  },
  {
   "cell_type": "markdown",
   "id": "d2095282-f531-4c9d-bd39-93bdbb06d312",
   "metadata": {},
   "source": [
    "## In this notebook, Data Science Tools and Ecosystem are summarized."
   ]
  },
  {
   "cell_type": "markdown",
   "id": "1f548f12-5339-40ab-8fdf-ee31e639e90d",
   "metadata": {},
   "source": [
    "Objectives:List popular ds languages\n",
    "Python\n",
    "R\n",
    "Scala\n",
    "Java"
   ]
  },
  {
   "cell_type": "markdown",
   "id": "2f30c3c9-2ee1-4c6d-b2d8-bee3e12abdc9",
   "metadata": {},
   "source": [
    "## Some of the popular languages that Data Scientists use are:\n",
    "Python\n",
    "R\n",
    "Scala\n"
   ]
  },
  {
   "cell_type": "markdown",
   "id": "4de5375f-c866-4f0f-89b3-d47441c51d6c",
   "metadata": {},
   "source": [
    "## Some of the commonly used libraries used by Data Scientists include:\n",
    "Numpy\n",
    "Pandas\n",
    "Scikit-learn"
   ]
  },
  {
   "cell_type": "markdown",
   "id": "7b34fce0-a0bf-471b-84cf-d62e23d5a53d",
   "metadata": {},
   "source": [
    "## Data Science Tools:\n",
    "python|\n",
    "--------\n",
    "Git|\n",
    "--------\n",
    "Jupyter|\n",
    "---------"
   ]
  },
  {
   "cell_type": "markdown",
   "id": "9368ad50-3308-41d2-b02d-22d2e566b244",
   "metadata": {},
   "source": [
    "Below are a few examples of evaluating arithmetic expressions in Python:"
   ]
  },
  {
   "cell_type": "code",
   "execution_count": 3,
   "id": "6fcf507d-ba31-4825-94e3-6965b7f26376",
   "metadata": {},
   "outputs": [
    {
     "name": "stdout",
     "output_type": "stream",
     "text": [
      "17\n"
     ]
    }
   ],
   "source": [
    "print((3*4)+5)"
   ]
  },
  {
   "cell_type": "code",
   "execution_count": 4,
   "id": "b95035fb-8018-4692-8d29-dcb675eccd2d",
   "metadata": {},
   "outputs": [
    {
     "name": "stdout",
     "output_type": "stream",
     "text": [
      "3.3333333333333335\n"
     ]
    }
   ],
   "source": [
    "min=200\n",
    "hrs=min/60\n",
    "print (hrs)"
   ]
  },
  {
   "cell_type": "code",
   "execution_count": null,
   "id": "dd7c1e7a-8a92-43df-8846-038ffa55cf54",
   "metadata": {},
   "outputs": [],
   "source": []
  }
 ],
 "metadata": {
  "kernelspec": {
   "display_name": "Python 3 (ipykernel)",
   "language": "python",
   "name": "python3"
  },
  "language_info": {
   "codemirror_mode": {
    "name": "ipython",
    "version": 3
   },
   "file_extension": ".py",
   "mimetype": "text/x-python",
   "name": "python",
   "nbconvert_exporter": "python",
   "pygments_lexer": "ipython3",
   "version": "3.12.8"
  }
 },
 "nbformat": 4,
 "nbformat_minor": 5
}
